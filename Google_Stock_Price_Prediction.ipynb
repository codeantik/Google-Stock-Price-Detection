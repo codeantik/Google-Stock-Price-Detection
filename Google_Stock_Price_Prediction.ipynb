{
  "nbformat": 4,
  "nbformat_minor": 0,
  "metadata": {
    "colab": {
      "provenance": [],
      "authorship_tag": "ABX9TyM2wuLRE7uJxQI+Xlq/SU1Z",
      "include_colab_link": true
    },
    "kernelspec": {
      "name": "python3",
      "display_name": "Python 3"
    },
    "language_info": {
      "name": "python"
    }
  },
  "cells": [
    {
      "cell_type": "markdown",
      "metadata": {
        "id": "view-in-github",
        "colab_type": "text"
      },
      "source": [
        "<a href=\"https://colab.research.google.com/github/codeantik/Google-Stock-Price-Detection/blob/main/Google_Stock_Price_Prediction.ipynb\" target=\"_parent\"><img src=\"https://colab.research.google.com/assets/colab-badge.svg\" alt=\"Open In Colab\"/></a>"
      ]
    },
    {
      "cell_type": "markdown",
      "source": [
        "### Data Preprocessing"
      ],
      "metadata": {
        "id": "-nt9kM77_0h2"
      }
    },
    {
      "cell_type": "markdown",
      "source": [
        "#### importing the libraries"
      ],
      "metadata": {
        "id": "TOEGAI2oAKT0"
      }
    },
    {
      "cell_type": "code",
      "source": [
        "import numpy as np\n",
        "import pandas as pd\n",
        "import matplotlib.pyplot as plt"
      ],
      "metadata": {
        "id": "x0bzLJPLANrm"
      },
      "execution_count": 2,
      "outputs": []
    },
    {
      "cell_type": "markdown",
      "source": [
        "#### importing the training set"
      ],
      "metadata": {
        "id": "Ks2Rreo6hfNB"
      }
    },
    {
      "cell_type": "code",
      "source": [
        "dataset_train = pd.read_csv('Google_Stock_Price_Train.csv')\n",
        "training_set = dataset_train.iloc[:, 1:2].values"
      ],
      "metadata": {
        "id": "Q7njp_9whhL7"
      },
      "execution_count": 3,
      "outputs": []
    },
    {
      "cell_type": "markdown",
      "source": [
        "#### feature scaling"
      ],
      "metadata": {
        "id": "UNgbolxcirHa"
      }
    },
    {
      "cell_type": "code",
      "source": [
        "from sklearn.preprocessing import MinMaxScaler\n",
        "sc = MinMaxScaler(feature_range = (0, 1))\n",
        "training_set_scaled = sc.fit_transform(training_set)"
      ],
      "metadata": {
        "id": "xsk2gPINitQg"
      },
      "execution_count": 4,
      "outputs": []
    },
    {
      "cell_type": "markdown",
      "source": [
        "#### creating a data structure with 60 timesteps and 1 output"
      ],
      "metadata": {
        "id": "PQvz-qUUkTZO"
      }
    },
    {
      "cell_type": "code",
      "source": [
        "X_train = []\n",
        "y_train = []\n",
        "for i in range(60, 1258):\n",
        "  X_train.append(training_set_scaled[i - 60:i, 0])\n",
        "  y_train.append(training_set_scaled[i, 0])\n",
        "X_train, y_train = np.array(X_train), np.array(y_train)"
      ],
      "metadata": {
        "id": "g0bJXdBXkXeb"
      },
      "execution_count": 5,
      "outputs": []
    },
    {
      "cell_type": "code",
      "source": [
        "print(X_train)"
      ],
      "metadata": {
        "id": "r_NMpKuNmnA1",
        "colab": {
          "base_uri": "https://localhost:8080/"
        },
        "outputId": "f41a57df-e31a-464e-c294-2b0b34ff86e1"
      },
      "execution_count": 6,
      "outputs": [
        {
          "output_type": "stream",
          "name": "stdout",
          "text": [
            "[[0.08581368 0.09701243 0.09433366 ... 0.07846566 0.08034452 0.08497656]\n",
            " [0.09701243 0.09433366 0.09156187 ... 0.08034452 0.08497656 0.08627874]\n",
            " [0.09433366 0.09156187 0.07984225 ... 0.08497656 0.08627874 0.08471612]\n",
            " ...\n",
            " [0.92106928 0.92438053 0.93048218 ... 0.95475854 0.95204256 0.95163331]\n",
            " [0.92438053 0.93048218 0.9299055  ... 0.95204256 0.95163331 0.95725128]\n",
            " [0.93048218 0.9299055  0.93113327 ... 0.95163331 0.95725128 0.93796041]]\n"
          ]
        }
      ]
    },
    {
      "cell_type": "code",
      "source": [
        "print(y_train)"
      ],
      "metadata": {
        "id": "Iq3V46uDmuip",
        "colab": {
          "base_uri": "https://localhost:8080/"
        },
        "outputId": "f3750d36-23b5-40de-a065-46a87a3edb27"
      },
      "execution_count": 7,
      "outputs": [
        {
          "output_type": "stream",
          "name": "stdout",
          "text": [
            "[0.08627874 0.08471612 0.07454052 ... 0.95725128 0.93796041 0.93688146]\n"
          ]
        }
      ]
    },
    {
      "cell_type": "markdown",
      "source": [
        "#### reshaping"
      ],
      "metadata": {
        "id": "Glw_5AvQnnXi"
      }
    },
    {
      "cell_type": "code",
      "source": [
        "X_train = np.reshape(X_train, (X_train.shape[0], X_train.shape[1], 1))"
      ],
      "metadata": {
        "id": "7PGsQMSLno8c"
      },
      "execution_count": 8,
      "outputs": []
    },
    {
      "cell_type": "code",
      "source": [
        "print(X_train)"
      ],
      "metadata": {
        "id": "P0vKUETTpP_H",
        "colab": {
          "base_uri": "https://localhost:8080/"
        },
        "outputId": "e39c9052-b417-4892-ab95-62ee454bdf07"
      },
      "execution_count": 9,
      "outputs": [
        {
          "output_type": "stream",
          "name": "stdout",
          "text": [
            "[[[0.08581368]\n",
            "  [0.09701243]\n",
            "  [0.09433366]\n",
            "  ...\n",
            "  [0.07846566]\n",
            "  [0.08034452]\n",
            "  [0.08497656]]\n",
            "\n",
            " [[0.09701243]\n",
            "  [0.09433366]\n",
            "  [0.09156187]\n",
            "  ...\n",
            "  [0.08034452]\n",
            "  [0.08497656]\n",
            "  [0.08627874]]\n",
            "\n",
            " [[0.09433366]\n",
            "  [0.09156187]\n",
            "  [0.07984225]\n",
            "  ...\n",
            "  [0.08497656]\n",
            "  [0.08627874]\n",
            "  [0.08471612]]\n",
            "\n",
            " ...\n",
            "\n",
            " [[0.92106928]\n",
            "  [0.92438053]\n",
            "  [0.93048218]\n",
            "  ...\n",
            "  [0.95475854]\n",
            "  [0.95204256]\n",
            "  [0.95163331]]\n",
            "\n",
            " [[0.92438053]\n",
            "  [0.93048218]\n",
            "  [0.9299055 ]\n",
            "  ...\n",
            "  [0.95204256]\n",
            "  [0.95163331]\n",
            "  [0.95725128]]\n",
            "\n",
            " [[0.93048218]\n",
            "  [0.9299055 ]\n",
            "  [0.93113327]\n",
            "  ...\n",
            "  [0.95163331]\n",
            "  [0.95725128]\n",
            "  [0.93796041]]]\n"
          ]
        }
      ]
    },
    {
      "cell_type": "markdown",
      "source": [
        "### Building the RNN"
      ],
      "metadata": {
        "id": "X-T7X4Ll_4rK"
      }
    },
    {
      "cell_type": "markdown",
      "source": [
        "#### importing keras libraries and packages"
      ],
      "metadata": {
        "id": "nwmZh6raplIR"
      }
    },
    {
      "cell_type": "code",
      "source": [
        "from keras.models import Sequential\n",
        "from keras.layers import Dense\n",
        "from keras.layers import LSTM\n",
        "from keras.layers import Dropout"
      ],
      "metadata": {
        "id": "1Ph-K1J7AF17"
      },
      "execution_count": 10,
      "outputs": []
    },
    {
      "cell_type": "markdown",
      "source": [
        "#### initializing the rnn"
      ],
      "metadata": {
        "id": "lLrzohtZqAdP"
      }
    },
    {
      "cell_type": "code",
      "source": [
        "regressor = Sequential()"
      ],
      "metadata": {
        "id": "B3yAoL7Mp797"
      },
      "execution_count": 11,
      "outputs": []
    },
    {
      "cell_type": "markdown",
      "source": [
        "#### adding the first LSTM layer and some Dropout regularization"
      ],
      "metadata": {
        "id": "FQo5aeU3qZM0"
      }
    },
    {
      "cell_type": "code",
      "source": [
        "regressor.add(LSTM(units = 50, return_sequences = True, input_shape = (X_train.shape[1], 1)))\n",
        "regressor.add(Dropout(rate = 0.2))"
      ],
      "metadata": {
        "id": "vbjAU7ngqaq5"
      },
      "execution_count": 12,
      "outputs": []
    },
    {
      "cell_type": "markdown",
      "source": [
        "#### adding a second LSTM layer and some Dropout regularization"
      ],
      "metadata": {
        "id": "jQsc-Ax3rxZk"
      }
    },
    {
      "cell_type": "code",
      "source": [
        "regressor.add(LSTM(units = 50, return_sequences = True))\n",
        "regressor.add(Dropout(rate = 0.2))"
      ],
      "metadata": {
        "id": "d69GsKhOsXuL"
      },
      "execution_count": 13,
      "outputs": []
    },
    {
      "cell_type": "markdown",
      "source": [
        "#### adding a third LSTM layer and some Dropout regularization"
      ],
      "metadata": {
        "id": "Lh4wX64jsB8q"
      }
    },
    {
      "cell_type": "code",
      "source": [
        "regressor.add(LSTM(units = 50, return_sequences = True))\n",
        "regressor.add(Dropout(rate = 0.2))"
      ],
      "metadata": {
        "id": "XGzOSpKOsgGo"
      },
      "execution_count": 14,
      "outputs": []
    },
    {
      "cell_type": "markdown",
      "source": [
        "#### adding a fourth LSTM layer and some Dropout regularization"
      ],
      "metadata": {
        "id": "z8PL-AbAsEsH"
      }
    },
    {
      "cell_type": "code",
      "source": [
        "regressor.add(LSTM(units = 50))\n",
        "regressor.add(Dropout(rate = 0.2))"
      ],
      "metadata": {
        "id": "rG23YWWoshWf"
      },
      "execution_count": 15,
      "outputs": []
    },
    {
      "cell_type": "markdown",
      "source": [
        "#### adding the output layer"
      ],
      "metadata": {
        "id": "FX0GcevgtA1g"
      }
    },
    {
      "cell_type": "code",
      "source": [
        "regressor.add(Dense(units = 1))"
      ],
      "metadata": {
        "id": "2CLgMNCLtFWS"
      },
      "execution_count": 16,
      "outputs": []
    },
    {
      "cell_type": "markdown",
      "source": [
        "#### compiling the rnn"
      ],
      "metadata": {
        "id": "gnWyGg4Yts4l"
      }
    },
    {
      "cell_type": "code",
      "source": [
        "regressor.compile(optimizer = 'adam', loss = 'mean_squared_error')"
      ],
      "metadata": {
        "id": "HYsVngPatu7l"
      },
      "execution_count": 17,
      "outputs": []
    },
    {
      "cell_type": "markdown",
      "source": [
        "#### fitting the RNN to the Training Set"
      ],
      "metadata": {
        "id": "40-vatTquT_F"
      }
    },
    {
      "cell_type": "code",
      "source": [
        "regressor.fit(X_train, y_train, batch_size = 32, epochs = 100)"
      ],
      "metadata": {
        "colab": {
          "base_uri": "https://localhost:8080/"
        },
        "id": "g8jSX6OduXaN",
        "outputId": "27dc00f7-f02d-44b8-fbf1-524c11e8ddb1"
      },
      "execution_count": 18,
      "outputs": [
        {
          "output_type": "stream",
          "name": "stdout",
          "text": [
            "Epoch 1/100\n",
            "38/38 [==============================] - 9s 84ms/step - loss: 0.0384\n",
            "Epoch 2/100\n",
            "38/38 [==============================] - 3s 88ms/step - loss: 0.0066\n",
            "Epoch 3/100\n",
            "38/38 [==============================] - 4s 93ms/step - loss: 0.0056\n",
            "Epoch 4/100\n",
            "38/38 [==============================] - 3s 83ms/step - loss: 0.0055\n",
            "Epoch 5/100\n",
            "38/38 [==============================] - 3s 83ms/step - loss: 0.0053\n",
            "Epoch 6/100\n",
            "38/38 [==============================] - 4s 98ms/step - loss: 0.0045\n",
            "Epoch 7/100\n",
            "38/38 [==============================] - 3s 83ms/step - loss: 0.0046\n",
            "Epoch 8/100\n",
            "38/38 [==============================] - 3s 83ms/step - loss: 0.0046\n",
            "Epoch 9/100\n",
            "38/38 [==============================] - 3s 82ms/step - loss: 0.0048\n",
            "Epoch 10/100\n",
            "38/38 [==============================] - 4s 98ms/step - loss: 0.0043\n",
            "Epoch 11/100\n",
            "38/38 [==============================] - 3s 81ms/step - loss: 0.0042\n",
            "Epoch 12/100\n",
            "38/38 [==============================] - 3s 84ms/step - loss: 0.0046\n",
            "Epoch 13/100\n",
            "38/38 [==============================] - 4s 97ms/step - loss: 0.0045\n",
            "Epoch 14/100\n",
            "38/38 [==============================] - 3s 84ms/step - loss: 0.0041\n",
            "Epoch 15/100\n",
            "38/38 [==============================] - 3s 84ms/step - loss: 0.0038\n",
            "Epoch 16/100\n",
            "38/38 [==============================] - 3s 83ms/step - loss: 0.0038\n",
            "Epoch 17/100\n",
            "38/38 [==============================] - 4s 97ms/step - loss: 0.0039\n",
            "Epoch 18/100\n",
            "38/38 [==============================] - 3s 82ms/step - loss: 0.0042\n",
            "Epoch 19/100\n",
            "38/38 [==============================] - 3s 83ms/step - loss: 0.0034\n",
            "Epoch 20/100\n",
            "38/38 [==============================] - 3s 92ms/step - loss: 0.0035\n",
            "Epoch 21/100\n",
            "38/38 [==============================] - 3s 87ms/step - loss: 0.0036\n",
            "Epoch 22/100\n",
            "38/38 [==============================] - 3s 83ms/step - loss: 0.0035\n",
            "Epoch 23/100\n",
            "38/38 [==============================] - 3s 83ms/step - loss: 0.0035\n",
            "Epoch 24/100\n",
            "38/38 [==============================] - 4s 97ms/step - loss: 0.0033\n",
            "Epoch 25/100\n",
            "38/38 [==============================] - 3s 83ms/step - loss: 0.0034\n",
            "Epoch 26/100\n",
            "38/38 [==============================] - 3s 81ms/step - loss: 0.0034\n",
            "Epoch 27/100\n",
            "38/38 [==============================] - 3s 84ms/step - loss: 0.0033\n",
            "Epoch 28/100\n",
            "38/38 [==============================] - 4s 95ms/step - loss: 0.0031\n",
            "Epoch 29/100\n",
            "38/38 [==============================] - 3s 83ms/step - loss: 0.0032\n",
            "Epoch 30/100\n",
            "38/38 [==============================] - 3s 83ms/step - loss: 0.0029\n",
            "Epoch 31/100\n",
            "38/38 [==============================] - 4s 97ms/step - loss: 0.0031\n",
            "Epoch 32/100\n",
            "38/38 [==============================] - 3s 82ms/step - loss: 0.0030\n",
            "Epoch 33/100\n",
            "38/38 [==============================] - 3s 82ms/step - loss: 0.0028\n",
            "Epoch 34/100\n",
            "38/38 [==============================] - 3s 81ms/step - loss: 0.0027\n",
            "Epoch 35/100\n",
            "38/38 [==============================] - 4s 97ms/step - loss: 0.0027\n",
            "Epoch 36/100\n",
            "38/38 [==============================] - 3s 83ms/step - loss: 0.0026\n",
            "Epoch 37/100\n",
            "38/38 [==============================] - 3s 83ms/step - loss: 0.0026\n",
            "Epoch 38/100\n",
            "38/38 [==============================] - 3s 92ms/step - loss: 0.0030\n",
            "Epoch 39/100\n",
            "38/38 [==============================] - 3s 87ms/step - loss: 0.0027\n",
            "Epoch 40/100\n",
            "38/38 [==============================] - 3s 84ms/step - loss: 0.0024\n",
            "Epoch 41/100\n",
            "38/38 [==============================] - 3s 83ms/step - loss: 0.0031\n",
            "Epoch 42/100\n",
            "38/38 [==============================] - 4s 98ms/step - loss: 0.0026\n",
            "Epoch 43/100\n",
            "38/38 [==============================] - 3s 83ms/step - loss: 0.0023\n",
            "Epoch 44/100\n",
            "38/38 [==============================] - 3s 83ms/step - loss: 0.0022\n",
            "Epoch 45/100\n",
            "38/38 [==============================] - 3s 88ms/step - loss: 0.0026\n",
            "Epoch 46/100\n",
            "38/38 [==============================] - 3s 91ms/step - loss: 0.0026\n",
            "Epoch 47/100\n",
            "38/38 [==============================] - 3s 81ms/step - loss: 0.0023\n",
            "Epoch 48/100\n",
            "38/38 [==============================] - 3s 82ms/step - loss: 0.0022\n",
            "Epoch 49/100\n",
            "38/38 [==============================] - 4s 96ms/step - loss: 0.0023\n",
            "Epoch 50/100\n",
            "38/38 [==============================] - 3s 82ms/step - loss: 0.0025\n",
            "Epoch 51/100\n",
            "38/38 [==============================] - 3s 83ms/step - loss: 0.0023\n",
            "Epoch 52/100\n",
            "38/38 [==============================] - 3s 81ms/step - loss: 0.0021\n",
            "Epoch 53/100\n",
            "38/38 [==============================] - 4s 97ms/step - loss: 0.0022\n",
            "Epoch 54/100\n",
            "38/38 [==============================] - 3s 84ms/step - loss: 0.0020\n",
            "Epoch 55/100\n",
            "38/38 [==============================] - 4s 99ms/step - loss: 0.0020\n",
            "Epoch 56/100\n",
            "38/38 [==============================] - 5s 140ms/step - loss: 0.0021\n",
            "Epoch 57/100\n",
            "38/38 [==============================] - 6s 159ms/step - loss: 0.0021\n",
            "Epoch 58/100\n",
            "38/38 [==============================] - 7s 189ms/step - loss: 0.0023\n",
            "Epoch 59/100\n",
            "38/38 [==============================] - 6s 147ms/step - loss: 0.0023\n",
            "Epoch 60/100\n",
            "38/38 [==============================] - 7s 178ms/step - loss: 0.0020\n",
            "Epoch 61/100\n",
            "38/38 [==============================] - 4s 110ms/step - loss: 0.0020\n",
            "Epoch 62/100\n",
            "38/38 [==============================] - 6s 150ms/step - loss: 0.0018\n",
            "Epoch 63/100\n",
            "38/38 [==============================] - 4s 117ms/step - loss: 0.0019\n",
            "Epoch 64/100\n",
            "38/38 [==============================] - 4s 109ms/step - loss: 0.0020\n",
            "Epoch 65/100\n",
            "38/38 [==============================] - 5s 131ms/step - loss: 0.0018\n",
            "Epoch 66/100\n",
            "38/38 [==============================] - 3s 83ms/step - loss: 0.0020\n",
            "Epoch 67/100\n",
            "38/38 [==============================] - 3s 84ms/step - loss: 0.0019\n",
            "Epoch 68/100\n",
            "38/38 [==============================] - 4s 113ms/step - loss: 0.0017\n",
            "Epoch 69/100\n",
            "38/38 [==============================] - 4s 112ms/step - loss: 0.0020\n",
            "Epoch 70/100\n",
            "38/38 [==============================] - 4s 112ms/step - loss: 0.0023\n",
            "Epoch 71/100\n",
            "38/38 [==============================] - 5s 120ms/step - loss: 0.0019\n",
            "Epoch 72/100\n",
            "38/38 [==============================] - 3s 84ms/step - loss: 0.0015\n",
            "Epoch 73/100\n",
            "38/38 [==============================] - 4s 93ms/step - loss: 0.0017\n",
            "Epoch 74/100\n",
            "38/38 [==============================] - 5s 126ms/step - loss: 0.0019\n",
            "Epoch 75/100\n",
            "38/38 [==============================] - 4s 113ms/step - loss: 0.0020\n",
            "Epoch 76/100\n",
            "38/38 [==============================] - 3s 90ms/step - loss: 0.0016\n",
            "Epoch 77/100\n",
            "38/38 [==============================] - 5s 125ms/step - loss: 0.0017\n",
            "Epoch 78/100\n",
            "38/38 [==============================] - 4s 112ms/step - loss: 0.0017\n",
            "Epoch 79/100\n",
            "38/38 [==============================] - 4s 117ms/step - loss: 0.0016\n",
            "Epoch 80/100\n",
            "38/38 [==============================] - 4s 105ms/step - loss: 0.0019\n",
            "Epoch 81/100\n",
            "38/38 [==============================] - 3s 84ms/step - loss: 0.0017\n",
            "Epoch 82/100\n",
            "38/38 [==============================] - 3s 91ms/step - loss: 0.0017\n",
            "Epoch 83/100\n",
            "38/38 [==============================] - 6s 166ms/step - loss: 0.0015\n",
            "Epoch 84/100\n",
            "38/38 [==============================] - 4s 102ms/step - loss: 0.0015\n",
            "Epoch 85/100\n",
            "38/38 [==============================] - 3s 87ms/step - loss: 0.0019\n",
            "Epoch 86/100\n",
            "38/38 [==============================] - 4s 118ms/step - loss: 0.0015\n",
            "Epoch 87/100\n",
            "38/38 [==============================] - 4s 110ms/step - loss: 0.0017\n",
            "Epoch 88/100\n",
            "38/38 [==============================] - 6s 150ms/step - loss: 0.0015\n",
            "Epoch 89/100\n",
            "38/38 [==============================] - 5s 133ms/step - loss: 0.0015\n",
            "Epoch 90/100\n",
            "38/38 [==============================] - 3s 84ms/step - loss: 0.0015\n",
            "Epoch 91/100\n",
            "38/38 [==============================] - 4s 98ms/step - loss: 0.0016\n",
            "Epoch 92/100\n",
            "38/38 [==============================] - 3s 83ms/step - loss: 0.0015\n",
            "Epoch 93/100\n",
            "38/38 [==============================] - 3s 83ms/step - loss: 0.0016\n",
            "Epoch 94/100\n",
            "38/38 [==============================] - 3s 87ms/step - loss: 0.0015\n",
            "Epoch 95/100\n",
            "38/38 [==============================] - 4s 92ms/step - loss: 0.0014\n",
            "Epoch 96/100\n",
            "38/38 [==============================] - 3s 83ms/step - loss: 0.0016\n",
            "Epoch 97/100\n",
            "38/38 [==============================] - 3s 84ms/step - loss: 0.0016\n",
            "Epoch 98/100\n",
            "38/38 [==============================] - 4s 97ms/step - loss: 0.0017\n",
            "Epoch 99/100\n",
            "38/38 [==============================] - 3s 83ms/step - loss: 0.0015\n",
            "Epoch 100/100\n",
            "38/38 [==============================] - 3s 84ms/step - loss: 0.0014\n"
          ]
        },
        {
          "output_type": "execute_result",
          "data": {
            "text/plain": [
              "<keras.callbacks.History at 0x7f8270ee3100>"
            ]
          },
          "metadata": {},
          "execution_count": 18
        }
      ]
    },
    {
      "cell_type": "markdown",
      "source": [
        "### Making the Predictions and Visualising the Results"
      ],
      "metadata": {
        "id": "6UG0Gg1Y_-8E"
      }
    },
    {
      "cell_type": "markdown",
      "source": [
        "#### getting the real stock price of 2017"
      ],
      "metadata": {
        "id": "xQmtkKwd4U-_"
      }
    },
    {
      "cell_type": "code",
      "source": [
        "dataset_test = pd.read_csv('Google_Stock_Price_Test.csv')\n",
        "real_stock_price = dataset_test.iloc[:, 1:2].values"
      ],
      "metadata": {
        "id": "LLTfX6Z-4aIo"
      },
      "execution_count": 19,
      "outputs": []
    },
    {
      "cell_type": "markdown",
      "source": [
        "#### getting the predicted stock price of 2017"
      ],
      "metadata": {
        "id": "WkkS1ig34r--"
      }
    },
    {
      "cell_type": "code",
      "source": [
        "dataset_total = pd.concat((dataset_train['Open'], dataset_test['Open']), axis = 0)\n",
        "inputs = dataset_total[len(dataset_total) - len(dataset_test) - 60:].values\n",
        "inputs = inputs.reshape(-1, 1)\n",
        "inputs = sc.transform(inputs)\n",
        "X_test = []\n",
        "for i in range(60, 80):\n",
        "  X_test.append(inputs[i - 60:i, 0])\n",
        "X_test = np.array(X_test)\n",
        "X_test = np.reshape(X_test, (X_test.shape[0], X_test.shape[1], 1))\n",
        "predicted_stock_price = regressor.predict(X_test)\n",
        "predicted_stock_price = sc.inverse_transform(predicted_stock_price)"
      ],
      "metadata": {
        "id": "PoofjDRj4spN",
        "colab": {
          "base_uri": "https://localhost:8080/"
        },
        "outputId": "706ddcc4-5a46-495f-f38d-7b31d07aeed1"
      },
      "execution_count": 20,
      "outputs": [
        {
          "output_type": "stream",
          "name": "stdout",
          "text": [
            "1/1 [==============================] - 2s 2s/step\n"
          ]
        }
      ]
    },
    {
      "cell_type": "markdown",
      "source": [
        "#### visualizing the results"
      ],
      "metadata": {
        "id": "Xkhmy7WdX8J2"
      }
    },
    {
      "cell_type": "code",
      "source": [
        "plt.plot(real_stock_price, color = 'red', label = 'Real Google Stock Price')\n",
        "plt.plot(predicted_stock_price, color = 'blue', label = 'Predicted Google Stock Price')\n",
        "plt.title('Google Stock Price Prediction')\n",
        "plt.xlabel('Time')\n",
        "plt.ylabel('Google Stock Price')\n",
        "plt.legend()\n",
        "plt.show()"
      ],
      "metadata": {
        "colab": {
          "base_uri": "https://localhost:8080/",
          "height": 472
        },
        "id": "Cowpu54cc1SN",
        "outputId": "4f1b67bf-9802-403b-954c-20924735ada6"
      },
      "execution_count": 22,
      "outputs": [
        {
          "output_type": "display_data",
          "data": {
            "text/plain": [
              "<Figure size 640x480 with 1 Axes>"
            ],
            "image/png": "[encoded data removed]"
          },
          "metadata": {}
        }
      ]
    },
    {
      "cell_type": "markdown",
      "source": [
        "# Evaluate the model"
      ],
      "metadata": {
        "id": "RzISU41siyMD"
      }
    },
    {
      "cell_type": "code",
      "source": [
        "import math\n",
        "from sklearn.metrics import mean_squared_error\n",
        "rmse = math.sqrt(mean_squared_error(real_stock_price, predicted_stock_price))\n",
        "print(rmse)\n",
        "print(rmse / 80)"
      ],
      "metadata": {
        "colab": {
          "base_uri": "https://localhost:8080/"
        },
        "id": "xAg-yw3Vi3dT",
        "outputId": "af47a30f-0a4e-45d6-9e27-ea47894af317"
      },
      "execution_count": 23,
      "outputs": [
        {
          "output_type": "stream",
          "name": "stdout",
          "text": [
            "20.96447886174054\n",
            "0.26205598577175676\n"
          ]
        }
      ]
    }
  ]
}